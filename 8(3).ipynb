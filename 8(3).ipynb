{
  "nbformat": 4,
  "nbformat_minor": 0,
  "metadata": {
    "colab": {
      "provenance": []
    },
    "kernelspec": {
      "name": "python3",
      "display_name": "Python 3"
    },
    "language_info": {
      "name": "python"
    }
  },
  "cells": [
    {
      "cell_type": "code",
      "source": [
        "import pandas as pd\n",
        "recipes = pd.read_csv('recipes_sample.csv', index_col=0)\n",
        "reviews = pd.read_csv('reviews_sample.csv', index_col=0, parse_dates=['date'])\n",
        "total = 0\n",
        "count = 0\n",
        "for index, row in reviews.iterrows():\n",
        "    if row['date'].year == 2010:\n",
        "        total += row['rating']\n",
        "        count += 1\n",
        "\n",
        "mean_rating = total / count\n",
        "mean_rating = reviews.loc[reviews['date'].dt.year == 2010, 'rating'].mean()\n"
      ],
      "metadata": {
        "id": "JMkSY627pigA"
      },
      "execution_count": null,
      "outputs": []
    }
  ]
}