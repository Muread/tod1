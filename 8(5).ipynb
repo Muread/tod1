{
  "nbformat": 4,
  "nbformat_minor": 0,
  "metadata": {
    "colab": {
      "provenance": []
    },
    "kernelspec": {
      "name": "python3",
      "display_name": "Python 3"
    },
    "language_info": {
      "name": "python"
    }
  },
  "cells": [
    {
      "cell_type": "code",
      "source": [
        "def get_word_reviews_count(df):\n",
        "    word_reviews = {}\n",
        "    for row in df.dropna(subset=['review']).itertuples():\n",
        "        recipe_id, review = row.recipe_id, row.review\n",
        "        words = review.split(' ')\n",
        "        for word in words:\n",
        "            if word not in word_reviews:\n",
        "                word_reviews[word] = []\n",
        "            word_reviews[word].append(recipe_id)\n",
        "    \n",
        "    word_reviews_count = {}\n",
        "    for row in df.dropna(subset=['review']).itertuples():\n",
        "        review = row.review\n",
        "        words = review.split(' ')\n",
        "        for word in words:\n",
        "            word_reviews_count[word] = len(word_reviews[word])\n",
        "    \n",
        "    return word_reviews_count"
      ],
      "metadata": {
        "id": "JMkSY627pigA"
      },
      "execution_count": null,
      "outputs": []
    }
  ]
}