{
  "nbformat": 4,
  "nbformat_minor": 0,
  "metadata": {
    "colab": {
      "provenance": []
    },
    "kernelspec": {
      "name": "python3",
      "display_name": "Python 3"
    },
    "language_info": {
      "name": "python"
    }
  },
  "cells": [
    {
      "cell_type": "code",
      "source": [
        "import pandas as pd\n",
        "recipes = pd.read_csv('recipes_sample.csv', index_col=0)\n",
        "reviews = pd.read_csv('reviews_sample.csv', index_col=0, parse_dates=['date'])\n",
        "reviews_2010 = reviews.loc[reviews['date'].dt.year == 2010]\n",
        "total = 0\n",
        "count = 0\n",
        "for index, row in reviews_2010.iterrows():\n",
        "    total += row['rating']\n",
        "    count += 1\n",
        "\n",
        "mean_rating = total / count"
      ],
      "metadata": {
        "id": "JMkSY627pigA"
      },
      "execution_count": null,
      "outputs": []
    }
  ]
}