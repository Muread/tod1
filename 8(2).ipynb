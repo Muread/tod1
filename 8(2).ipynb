{
  "nbformat": 4,
  "nbformat_minor": 0,
  "metadata": {
    "colab": {
      "provenance": []
    },
    "kernelspec": {
      "name": "python3",
      "display_name": "Python 3"
    },
    "language_info": {
      "name": "python"
    }
  },
  "cells": [
    {
      "cell_type": "code",
      "source": [
        "import random\n",
        "import string\n",
        "\n",
        "N = 2000000\n",
        "table = [[random.random() for j in range(4)] for i in range(N)]\n",
        "\n",
        "letters = string.ascii_lowercase[:5]\n",
        "for row in table:\n",
        "    row.append(random.choice(letters))\n",
        "\n",
        "subset = [row for row in table if row[-1] in letters]\n",
        "print(subset)\n",
        "    "
      ],
      "metadata": {
        "id": "JMkSY627pigA"
      },
      "execution_count": null,
      "outputs": []
    }
  ]
}