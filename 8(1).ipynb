{
  "nbformat": 4,
  "nbformat_minor": 0,
  "metadata": {
    "colab": {
      "provenance": []
    },
    "kernelspec": {
      "name": "python3",
      "display_name": "Python 3"
    },
    "language_info": {
      "name": "python"
    }
  },
  "cells": [
    {
      "cell_type": "code",
      "source": [
        "import random\n",
        "import statistics\n",
        "\n",
        "N = 1000000\n",
        "A = [random.randint(0, 1000) for i in range(N)]\n",
        "B = [a + 100 for a in A]\n",
        "mean_B = statistics.mean(B)\n",
        "\n",
        "print(mean_B)"
      ],
      "metadata": {
        "id": "JMkSY627pigA"
      },
      "execution_count": null,
      "outputs": []
    }
  ]
}