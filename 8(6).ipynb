{
  "nbformat": 4,
  "nbformat_minor": 0,
  "metadata": {
    "colab": {
      "provenance": []
    },
    "kernelspec": {
      "name": "python3",
      "display_name": "Python 3"
    },
    "language_info": {
      "name": "python"
    }
  },
  "cells": [
    {
      "cell_type": "code",
      "source": [
        "def mape(y_true, y_pred):\n",
        "    n = len(y_true)\n",
        "    errors = [abs((y_true[i] - y_pred[i]) / y_true[i]) for i in range(n)]\n",
        "    mape = (sum(errors) / n) * 100\n",
        "    return mape\n",
        "    "
      ],
      "metadata": {
        "id": "JMkSY627pigA"
      },
      "execution_count": null,
      "outputs": []
    }
  ]
}